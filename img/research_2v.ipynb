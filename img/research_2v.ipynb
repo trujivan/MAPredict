{
 "cells": [
  {
   "cell_type": "code",
   "execution_count": 1,
   "metadata": {},
   "outputs": [],
   "source": [
    "#importing the packages\n",
    "import pandas as pd\n",
    "import numpy as np\n",
    "import random \n",
    "\n",
    "import matplotlib.pyplot as plt\n",
    "import seaborn as sns\n",
    "sns.set()\n",
    "\n",
    "import joblib # for saving algorithm and preprocessing objects\n",
    "from sklearn.linear_model import LinearRegression\n",
    "from sklearn.preprocessing import MinMaxScaler\n",
    "from sklearn.preprocessing import StandardScaler"
   ]
  },
  {
   "cell_type": "code",
   "execution_count": null,
   "metadata": {},
   "outputs": [],
   "source": [
    "# uploading the dataset\n",
    "df = pd.read_csv('pollution_us_2000_2016.csv')\n",
    "df.head()"
   ]
  },
  {
   "cell_type": "code",
   "execution_count": null,
   "metadata": {},
   "outputs": [],
   "source": [
    "print(df.columns)"
   ]
  },
  {
   "cell_type": "code",
   "execution_count": null,
   "metadata": {},
   "outputs": [],
   "source": [
    "print(df.shape)"
   ]
  },
  {
   "cell_type": "code",
   "execution_count": null,
   "metadata": {},
   "outputs": [],
   "source": [
    "print(df.describe())"
   ]
  },
  {
   "cell_type": "code",
   "execution_count": null,
   "metadata": {},
   "outputs": [],
   "source": [
    "#droping all the unnecessary features\n",
    "df.drop(['Unnamed: 0','State Code', 'County Code', 'Site Num', 'Address', 'County', 'City',\n",
    "         'NO2 Units', 'O3 Units' ,'SO2 Units', 'CO Units',\n",
    "         'NO2 1st Max Hour', 'O3 1st Max Hour', 'SO2 1st Max Hour', 'CO 1st Max Hour'], axis=1, inplace=True)"
   ]
  },
  {
   "cell_type": "code",
   "execution_count": null,
   "metadata": {},
   "outputs": [],
   "source": [
    "print(df['NO2 AQI'].min())\n",
    "print(df['NO2 AQI'].max())\n",
    "\n",
    "print(df['O3 AQI'].min())\n",
    "print(df['O3 AQI'].max())\n",
    "\n",
    "print(df['SO2 AQI'].min())\n",
    "print(df['SO2 AQI'].max())\n",
    "\n",
    "print(df['CO AQI'].min())\n",
    "print(df['CO AQI'].max())"
   ]
  },
  {
   "cell_type": "code",
   "execution_count": null,
   "metadata": {},
   "outputs": [],
   "source": [
    "#IQR range\n",
    "Q1 = df.quantile(0.25)\n",
    "Q3 = df.quantile(0.75)\n",
    "IQR = Q3 - Q1\n",
    "\n",
    "#removing Outliers\n",
    "df = df[~((df < (Q1 - 1.5 * IQR)) |(df > (Q3 + 1.5 * IQR))).any(axis=1)]\n",
    "df.shape"
   ]
  },
  {
   "cell_type": "code",
   "execution_count": null,
   "metadata": {},
   "outputs": [],
   "source": [
    "print(df['NO2 AQI'].min())\n",
    "print(df['NO2 AQI'].max())\n",
    "\n",
    "print(df['O3 AQI'].min())\n",
    "print(df['O3 AQI'].max())\n",
    "\n",
    "print(df['SO2 AQI'].min())\n",
    "print(df['SO2 AQI'].max())\n",
    "\n",
    "print(df['CO AQI'].min())\n",
    "print(df['CO AQI'].max())"
   ]
  },
  {
   "cell_type": "code",
   "execution_count": null,
   "metadata": {},
   "outputs": [],
   "source": [
    "#encoding dates\n",
    "df.insert(loc=1, column='Year', value=df['Date Local'].apply(lambda year: year.split('-')[0])) \n",
    "df.drop('Date Local', axis=1, inplace=True)\n",
    "df['Year']=df['Year'].astype('int')"
   ]
  },
  {
   "cell_type": "code",
   "execution_count": null,
   "metadata": {},
   "outputs": [],
   "source": []
  },
  {
   "cell_type": "code",
   "execution_count": null,
   "metadata": {},
   "outputs": [],
   "source": [
    "#filling the FIRST Nan values with the means by the state\n",
    "for i in df.columns[2:]:\n",
    "    df[i] = df[i].fillna(df.groupby('State')[i].transform('mean'))"
   ]
  },
  {
   "cell_type": "code",
   "execution_count": null,
   "metadata": {},
   "outputs": [],
   "source": [
    "# grouped data by state and year\n",
    "dfG = df.groupby(['State', 'Year']).mean().reset_index()"
   ]
  },
  {
   "cell_type": "code",
   "execution_count": null,
   "metadata": {},
   "outputs": [],
   "source": [
    "dfG[dfG['State']=='Hawaii']['NO2 Mean'].min()"
   ]
  },
  {
   "cell_type": "code",
   "execution_count": null,
   "metadata": {},
   "outputs": [],
   "source": [
    "#function for inserting a row\n",
    "def Insert_row_(row_number, df, row_value): \n",
    "    # Slice the upper half of the dataframe \n",
    "    df1 = df[0:row_number] \n",
    "   \n",
    "    # Store the result of lower half of the dataframe \n",
    "    df2 = df[row_number:] \n",
    "   \n",
    "    # Inser the row in the upper half dataframe \n",
    "    df1.loc[row_number]=row_value \n",
    "   \n",
    "    # Concat the two dataframes \n",
    "    df_result = pd.concat([df1, df2]) \n",
    "   \n",
    "    # Reassign the index labels \n",
    "    df_result.index = [*range(df_result.shape[0])] \n",
    "   \n",
    "    # Return the updated dataframe \n",
    "    return df_result "
   ]
  },
  {
   "cell_type": "code",
   "execution_count": null,
   "metadata": {},
   "outputs": [],
   "source": [
    "#all the years\n",
    "year_list = df['Year'].unique()\n",
    "print(year_list)"
   ]
  },
  {
   "cell_type": "code",
   "execution_count": null,
   "metadata": {},
   "outputs": [],
   "source": [
    "#all the states\n",
    "state_list = df['State'].unique()\n",
    "print(state_list)"
   ]
  },
  {
   "cell_type": "code",
   "execution_count": null,
   "metadata": {},
   "outputs": [],
   "source": [
    "dfG.shape"
   ]
  },
  {
   "cell_type": "code",
   "execution_count": null,
   "metadata": {},
   "outputs": [],
   "source": [
    "dfG.describe()"
   ]
  },
  {
   "cell_type": "code",
   "execution_count": null,
   "metadata": {},
   "outputs": [],
   "source": [
    "# add more years with NaN values\n",
    "for state in state_list:\n",
    "    year_diff = set(year_list).difference(list(dfG[dfG['State']==state]['Year']))\n",
    "    for i in year_diff:\n",
    "        if i == 2000:\n",
    "            row_value = [state, i, 25.9423, 42.7453, 40.4157, 0.0408353, 0.0501655, 43.1472, 4.30707, 6.65621, 7.93535, 0.721985, 1.094762, 10.577235]\n",
    "        elif i == 2016:\n",
    "            row_value = [state, i, 0, 0, 0, 0, 0, 0, 0, 0, 0, 0, 0, 0]\n",
    "        else:\n",
    "            row_value = [state, i, np.nan, np.nan, np.nan, np.nan, np.nan, np.nan, np.nan,np.nan,np.nan,np.nan,np.nan,np.nan]\n",
    "        dfG = Insert_row_(random.randint(1,494), dfG, row_value) "
   ]
  },
  {
   "cell_type": "code",
   "execution_count": null,
   "metadata": {},
   "outputs": [],
   "source": [
    "# replacing Nan values by interpolation by state\n",
    "groups = []\n",
    "i = 0\n",
    "for _, group in dfG.groupby('State'):\n",
    "    a = group.sort_values(by='Year').interpolate()\n",
    "    groups.append(a)\n",
    "    \n",
    "final_df = pd.DataFrame(columns=list(groups[0].columns) )\n",
    "for g in groups:\n",
    "    final_df = final_df.append(g, ignore_index = True) "
   ]
  },
  {
   "cell_type": "code",
   "execution_count": null,
   "metadata": {},
   "outputs": [],
   "source": [
    "# calculating the average AQI\n",
    "average_AQI = (final_df['NO2 AQI'] + final_df['SO2 AQI'] + \\\n",
    "              final_df['CO AQI'] + final_df['O3 AQI']) / 4 \n",
    "final_df.insert(loc=len(final_df.columns), column='average_AQI', value=average_AQI)"
   ]
  },
  {
   "cell_type": "code",
   "execution_count": null,
   "metadata": {},
   "outputs": [],
   "source": [
    "final_df.head()"
   ]
  },
  {
   "cell_type": "code",
   "execution_count": null,
   "metadata": {},
   "outputs": [],
   "source": [
    "final_df[final_df[\"State\"]=='Missouri']['average_AQI'].plot(kind='density', subplots=True, layout=(1, 2), \n",
    "                  sharex=False, figsize=(10, 4));"
   ]
  },
  {
   "cell_type": "code",
   "execution_count": null,
   "metadata": {},
   "outputs": [],
   "source": [
    "plt.scatter(final_df[final_df['State']=='Hawaii']['Year'], final_df[final_df['State']=='Hawaii']['average_AQI']);"
   ]
  },
  {
   "cell_type": "code",
   "execution_count": null,
   "metadata": {},
   "outputs": [],
   "source": [
    "final_df.describe()"
   ]
  },
  {
   "cell_type": "code",
   "execution_count": null,
   "metadata": {},
   "outputs": [],
   "source": [
    "joblib.dump(final_df, \"./processed_data.joblib\", compress=True)\n",
    "testing_Data = joblib.load(\"./processed_data.joblib\")"
   ]
  },
  {
   "cell_type": "code",
   "execution_count": null,
   "metadata": {},
   "outputs": [],
   "source": [
    "def state_data(state, data, df):\n",
    "    \n",
    "    t = df[df['State']==state].sort_values(by='Year')\n",
    "    \n",
    "    clf = LinearRegression()\n",
    "    clf.fit(t[['Year']], t[data])\n",
    "    \n",
    "    years = np.arange(2017, 2026, 1)\n",
    "    \n",
    "    tt = pd.DataFrame({'Year': years, data: clf.predict(years.reshape(-1, 1))})\n",
    "    pd.concat([t, tt], sort=False).set_index('Year')[data].plot(color='red')\n",
    "    t.set_index('Year')[data].plot(figsize=(15, 5), xticks=(np.arange(2000, 2026, 1)))\n",
    "    \n",
    "    return print(clf.predict(years.reshape(-1, 1)))"
   ]
  },
  {
   "cell_type": "code",
   "execution_count": null,
   "metadata": {},
   "outputs": [],
   "source": [
    "state_data('Missouri', 'average_AQI', final_df)"
   ]
  }
 ],
 "metadata": {
  "kernelspec": {
   "display_name": "Python 3",
   "language": "python",
   "name": "python3"
  },
  "language_info": {
   "codemirror_mode": {
    "name": "ipython",
    "version": 3
   },
   "file_extension": ".py",
   "mimetype": "text/x-python",
   "name": "python",
   "nbconvert_exporter": "python",
   "pygments_lexer": "ipython3",
   "version": "3.7.3"
  }
 },
 "nbformat": 4,
 "nbformat_minor": 2
}
