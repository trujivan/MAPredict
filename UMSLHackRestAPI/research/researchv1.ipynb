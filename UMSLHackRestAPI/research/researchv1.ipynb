{
 "cells": [
  {
   "cell_type": "code",
   "execution_count": 1,
   "metadata": {},
   "outputs": [],
   "source": [
    "#importing the packages\n",
    "import pandas as pd\n",
    "import numpy as np\n",
    "import random \n",
    "import matplotlib.pyplot as plt\n",
    "import seaborn as sns\n",
    "sns.set()\n",
    "\n",
    "import joblib # for saving algorithm and preprocessing objects\n",
    "from sklearn.linear_model import LinearRegression"
   ]
  },
  {
   "cell_type": "code",
   "execution_count": 2,
   "metadata": {},
   "outputs": [
    {
     "data": {
      "text/html": [
       "<div>\n",
       "<style scoped>\n",
       "    .dataframe tbody tr th:only-of-type {\n",
       "        vertical-align: middle;\n",
       "    }\n",
       "\n",
       "    .dataframe tbody tr th {\n",
       "        vertical-align: top;\n",
       "    }\n",
       "\n",
       "    .dataframe thead th {\n",
       "        text-align: right;\n",
       "    }\n",
       "</style>\n",
       "<table border=\"1\" class=\"dataframe\">\n",
       "  <thead>\n",
       "    <tr style=\"text-align: right;\">\n",
       "      <th></th>\n",
       "      <th>Unnamed: 0</th>\n",
       "      <th>State Code</th>\n",
       "      <th>County Code</th>\n",
       "      <th>Site Num</th>\n",
       "      <th>Address</th>\n",
       "      <th>State</th>\n",
       "      <th>County</th>\n",
       "      <th>City</th>\n",
       "      <th>Date Local</th>\n",
       "      <th>NO2 Units</th>\n",
       "      <th>...</th>\n",
       "      <th>SO2 Units</th>\n",
       "      <th>SO2 Mean</th>\n",
       "      <th>SO2 1st Max Value</th>\n",
       "      <th>SO2 1st Max Hour</th>\n",
       "      <th>SO2 AQI</th>\n",
       "      <th>CO Units</th>\n",
       "      <th>CO Mean</th>\n",
       "      <th>CO 1st Max Value</th>\n",
       "      <th>CO 1st Max Hour</th>\n",
       "      <th>CO AQI</th>\n",
       "    </tr>\n",
       "  </thead>\n",
       "  <tbody>\n",
       "    <tr>\n",
       "      <th>0</th>\n",
       "      <td>0</td>\n",
       "      <td>4</td>\n",
       "      <td>13</td>\n",
       "      <td>3002</td>\n",
       "      <td>1645 E ROOSEVELT ST-CENTRAL PHOENIX STN</td>\n",
       "      <td>Arizona</td>\n",
       "      <td>Maricopa</td>\n",
       "      <td>Phoenix</td>\n",
       "      <td>2000-01-01</td>\n",
       "      <td>Parts per billion</td>\n",
       "      <td>...</td>\n",
       "      <td>Parts per billion</td>\n",
       "      <td>3.000000</td>\n",
       "      <td>9.0</td>\n",
       "      <td>21</td>\n",
       "      <td>13.0</td>\n",
       "      <td>Parts per million</td>\n",
       "      <td>1.145833</td>\n",
       "      <td>4.2</td>\n",
       "      <td>21</td>\n",
       "      <td>NaN</td>\n",
       "    </tr>\n",
       "    <tr>\n",
       "      <th>1</th>\n",
       "      <td>1</td>\n",
       "      <td>4</td>\n",
       "      <td>13</td>\n",
       "      <td>3002</td>\n",
       "      <td>1645 E ROOSEVELT ST-CENTRAL PHOENIX STN</td>\n",
       "      <td>Arizona</td>\n",
       "      <td>Maricopa</td>\n",
       "      <td>Phoenix</td>\n",
       "      <td>2000-01-01</td>\n",
       "      <td>Parts per billion</td>\n",
       "      <td>...</td>\n",
       "      <td>Parts per billion</td>\n",
       "      <td>3.000000</td>\n",
       "      <td>9.0</td>\n",
       "      <td>21</td>\n",
       "      <td>13.0</td>\n",
       "      <td>Parts per million</td>\n",
       "      <td>0.878947</td>\n",
       "      <td>2.2</td>\n",
       "      <td>23</td>\n",
       "      <td>25.0</td>\n",
       "    </tr>\n",
       "    <tr>\n",
       "      <th>2</th>\n",
       "      <td>2</td>\n",
       "      <td>4</td>\n",
       "      <td>13</td>\n",
       "      <td>3002</td>\n",
       "      <td>1645 E ROOSEVELT ST-CENTRAL PHOENIX STN</td>\n",
       "      <td>Arizona</td>\n",
       "      <td>Maricopa</td>\n",
       "      <td>Phoenix</td>\n",
       "      <td>2000-01-01</td>\n",
       "      <td>Parts per billion</td>\n",
       "      <td>...</td>\n",
       "      <td>Parts per billion</td>\n",
       "      <td>2.975000</td>\n",
       "      <td>6.6</td>\n",
       "      <td>23</td>\n",
       "      <td>NaN</td>\n",
       "      <td>Parts per million</td>\n",
       "      <td>1.145833</td>\n",
       "      <td>4.2</td>\n",
       "      <td>21</td>\n",
       "      <td>NaN</td>\n",
       "    </tr>\n",
       "    <tr>\n",
       "      <th>3</th>\n",
       "      <td>3</td>\n",
       "      <td>4</td>\n",
       "      <td>13</td>\n",
       "      <td>3002</td>\n",
       "      <td>1645 E ROOSEVELT ST-CENTRAL PHOENIX STN</td>\n",
       "      <td>Arizona</td>\n",
       "      <td>Maricopa</td>\n",
       "      <td>Phoenix</td>\n",
       "      <td>2000-01-01</td>\n",
       "      <td>Parts per billion</td>\n",
       "      <td>...</td>\n",
       "      <td>Parts per billion</td>\n",
       "      <td>2.975000</td>\n",
       "      <td>6.6</td>\n",
       "      <td>23</td>\n",
       "      <td>NaN</td>\n",
       "      <td>Parts per million</td>\n",
       "      <td>0.878947</td>\n",
       "      <td>2.2</td>\n",
       "      <td>23</td>\n",
       "      <td>25.0</td>\n",
       "    </tr>\n",
       "    <tr>\n",
       "      <th>4</th>\n",
       "      <td>4</td>\n",
       "      <td>4</td>\n",
       "      <td>13</td>\n",
       "      <td>3002</td>\n",
       "      <td>1645 E ROOSEVELT ST-CENTRAL PHOENIX STN</td>\n",
       "      <td>Arizona</td>\n",
       "      <td>Maricopa</td>\n",
       "      <td>Phoenix</td>\n",
       "      <td>2000-01-02</td>\n",
       "      <td>Parts per billion</td>\n",
       "      <td>...</td>\n",
       "      <td>Parts per billion</td>\n",
       "      <td>1.958333</td>\n",
       "      <td>3.0</td>\n",
       "      <td>22</td>\n",
       "      <td>4.0</td>\n",
       "      <td>Parts per million</td>\n",
       "      <td>0.850000</td>\n",
       "      <td>1.6</td>\n",
       "      <td>23</td>\n",
       "      <td>NaN</td>\n",
       "    </tr>\n",
       "  </tbody>\n",
       "</table>\n",
       "<p>5 rows × 29 columns</p>\n",
       "</div>"
      ],
      "text/plain": [
       "   Unnamed: 0  State Code  County Code  Site Num  \\\n",
       "0           0           4           13      3002   \n",
       "1           1           4           13      3002   \n",
       "2           2           4           13      3002   \n",
       "3           3           4           13      3002   \n",
       "4           4           4           13      3002   \n",
       "\n",
       "                                   Address    State    County     City  \\\n",
       "0  1645 E ROOSEVELT ST-CENTRAL PHOENIX STN  Arizona  Maricopa  Phoenix   \n",
       "1  1645 E ROOSEVELT ST-CENTRAL PHOENIX STN  Arizona  Maricopa  Phoenix   \n",
       "2  1645 E ROOSEVELT ST-CENTRAL PHOENIX STN  Arizona  Maricopa  Phoenix   \n",
       "3  1645 E ROOSEVELT ST-CENTRAL PHOENIX STN  Arizona  Maricopa  Phoenix   \n",
       "4  1645 E ROOSEVELT ST-CENTRAL PHOENIX STN  Arizona  Maricopa  Phoenix   \n",
       "\n",
       "   Date Local          NO2 Units  ...          SO2 Units  SO2 Mean  \\\n",
       "0  2000-01-01  Parts per billion  ...  Parts per billion  3.000000   \n",
       "1  2000-01-01  Parts per billion  ...  Parts per billion  3.000000   \n",
       "2  2000-01-01  Parts per billion  ...  Parts per billion  2.975000   \n",
       "3  2000-01-01  Parts per billion  ...  Parts per billion  2.975000   \n",
       "4  2000-01-02  Parts per billion  ...  Parts per billion  1.958333   \n",
       "\n",
       "   SO2 1st Max Value  SO2 1st Max Hour SO2 AQI           CO Units   CO Mean  \\\n",
       "0                9.0                21    13.0  Parts per million  1.145833   \n",
       "1                9.0                21    13.0  Parts per million  0.878947   \n",
       "2                6.6                23     NaN  Parts per million  1.145833   \n",
       "3                6.6                23     NaN  Parts per million  0.878947   \n",
       "4                3.0                22     4.0  Parts per million  0.850000   \n",
       "\n",
       "   CO 1st Max Value  CO 1st Max Hour CO AQI  \n",
       "0               4.2               21    NaN  \n",
       "1               2.2               23   25.0  \n",
       "2               4.2               21    NaN  \n",
       "3               2.2               23   25.0  \n",
       "4               1.6               23    NaN  \n",
       "\n",
       "[5 rows x 29 columns]"
      ]
     },
     "execution_count": 2,
     "metadata": {},
     "output_type": "execute_result"
    }
   ],
   "source": [
    "# uploading the dataset\n",
    "df = pd.read_csv('pollution_us_2000_2016.csv')\n",
    "df.head()"
   ]
  },
  {
   "cell_type": "code",
   "execution_count": 3,
   "metadata": {},
   "outputs": [
    {
     "data": {
      "text/plain": [
       "Index(['Unnamed: 0', 'State Code', 'County Code', 'Site Num', 'Address',\n",
       "       'State', 'County', 'City', 'Date Local', 'NO2 Units', 'NO2 Mean',\n",
       "       'NO2 1st Max Value', 'NO2 1st Max Hour', 'NO2 AQI', 'O3 Units',\n",
       "       'O3 Mean', 'O3 1st Max Value', 'O3 1st Max Hour', 'O3 AQI', 'SO2 Units',\n",
       "       'SO2 Mean', 'SO2 1st Max Value', 'SO2 1st Max Hour', 'SO2 AQI',\n",
       "       'CO Units', 'CO Mean', 'CO 1st Max Value', 'CO 1st Max Hour', 'CO AQI'],\n",
       "      dtype='object')"
      ]
     },
     "execution_count": 3,
     "metadata": {},
     "output_type": "execute_result"
    }
   ],
   "source": [
    "df.columns"
   ]
  },
  {
   "cell_type": "code",
   "execution_count": 4,
   "metadata": {},
   "outputs": [],
   "source": [
    "#droping all the unnecessary features\n",
    "df.drop(['Unnamed: 0','State Code', 'County Code', 'Site Num', 'Address', 'County', 'City',\n",
    "         'NO2 Units', 'O3 Units' ,'SO2 Units', 'CO Units',\n",
    "         'NO2 1st Max Hour', 'O3 1st Max Hour', 'SO2 1st Max Hour', 'CO 1st Max Hour'], axis=1, inplace=True)"
   ]
  },
  {
   "cell_type": "code",
   "execution_count": 5,
   "metadata": {},
   "outputs": [
    {
     "data": {
      "text/plain": [
       "(1746661, 14)"
      ]
     },
     "execution_count": 5,
     "metadata": {},
     "output_type": "execute_result"
    }
   ],
   "source": [
    "df.shape"
   ]
  },
  {
   "cell_type": "code",
   "execution_count": 6,
   "metadata": {},
   "outputs": [
    {
     "data": {
      "text/html": [
       "<div>\n",
       "<style scoped>\n",
       "    .dataframe tbody tr th:only-of-type {\n",
       "        vertical-align: middle;\n",
       "    }\n",
       "\n",
       "    .dataframe tbody tr th {\n",
       "        vertical-align: top;\n",
       "    }\n",
       "\n",
       "    .dataframe thead th {\n",
       "        text-align: right;\n",
       "    }\n",
       "</style>\n",
       "<table border=\"1\" class=\"dataframe\">\n",
       "  <thead>\n",
       "    <tr style=\"text-align: right;\">\n",
       "      <th></th>\n",
       "      <th>NO2 Mean</th>\n",
       "      <th>NO2 1st Max Value</th>\n",
       "      <th>NO2 AQI</th>\n",
       "      <th>O3 Mean</th>\n",
       "      <th>O3 1st Max Value</th>\n",
       "      <th>O3 AQI</th>\n",
       "      <th>SO2 Mean</th>\n",
       "      <th>SO2 1st Max Value</th>\n",
       "      <th>SO2 AQI</th>\n",
       "      <th>CO Mean</th>\n",
       "      <th>CO 1st Max Value</th>\n",
       "      <th>CO AQI</th>\n",
       "    </tr>\n",
       "  </thead>\n",
       "  <tbody>\n",
       "    <tr>\n",
       "      <th>count</th>\n",
       "      <td>1.746661e+06</td>\n",
       "      <td>1.746661e+06</td>\n",
       "      <td>1.746661e+06</td>\n",
       "      <td>1.746661e+06</td>\n",
       "      <td>1.746661e+06</td>\n",
       "      <td>1.746661e+06</td>\n",
       "      <td>1.746661e+06</td>\n",
       "      <td>1.746661e+06</td>\n",
       "      <td>873754.000000</td>\n",
       "      <td>1.746661e+06</td>\n",
       "      <td>1.746661e+06</td>\n",
       "      <td>873338.000000</td>\n",
       "    </tr>\n",
       "    <tr>\n",
       "      <th>mean</th>\n",
       "      <td>1.282193e+01</td>\n",
       "      <td>2.541485e+01</td>\n",
       "      <td>2.389822e+01</td>\n",
       "      <td>2.612485e-02</td>\n",
       "      <td>3.920331e-02</td>\n",
       "      <td>3.605012e+01</td>\n",
       "      <td>1.870364e+00</td>\n",
       "      <td>4.492185e+00</td>\n",
       "      <td>7.115945</td>\n",
       "      <td>3.682177e-01</td>\n",
       "      <td>6.201067e-01</td>\n",
       "      <td>5.996595</td>\n",
       "    </tr>\n",
       "    <tr>\n",
       "      <th>std</th>\n",
       "      <td>9.504814e+00</td>\n",
       "      <td>1.599963e+01</td>\n",
       "      <td>1.516280e+01</td>\n",
       "      <td>1.136974e-02</td>\n",
       "      <td>1.534362e-02</td>\n",
       "      <td>1.978042e+01</td>\n",
       "      <td>2.760435e+00</td>\n",
       "      <td>7.679866e+00</td>\n",
       "      <td>11.937473</td>\n",
       "      <td>3.140231e-01</td>\n",
       "      <td>6.439361e-01</td>\n",
       "      <td>5.851836</td>\n",
       "    </tr>\n",
       "    <tr>\n",
       "      <th>min</th>\n",
       "      <td>-2.000000e+00</td>\n",
       "      <td>-2.000000e+00</td>\n",
       "      <td>0.000000e+00</td>\n",
       "      <td>0.000000e+00</td>\n",
       "      <td>0.000000e+00</td>\n",
       "      <td>0.000000e+00</td>\n",
       "      <td>-2.000000e+00</td>\n",
       "      <td>-2.000000e+00</td>\n",
       "      <td>0.000000</td>\n",
       "      <td>-4.375000e-01</td>\n",
       "      <td>-4.000000e-01</td>\n",
       "      <td>0.000000</td>\n",
       "    </tr>\n",
       "    <tr>\n",
       "      <th>25%</th>\n",
       "      <td>5.750000e+00</td>\n",
       "      <td>1.300000e+01</td>\n",
       "      <td>1.200000e+01</td>\n",
       "      <td>1.787500e-02</td>\n",
       "      <td>2.900000e-02</td>\n",
       "      <td>2.500000e+01</td>\n",
       "      <td>2.565220e-01</td>\n",
       "      <td>8.000000e-01</td>\n",
       "      <td>1.000000</td>\n",
       "      <td>1.834580e-01</td>\n",
       "      <td>2.920000e-01</td>\n",
       "      <td>2.000000</td>\n",
       "    </tr>\n",
       "    <tr>\n",
       "      <th>50%</th>\n",
       "      <td>1.073913e+01</td>\n",
       "      <td>2.400000e+01</td>\n",
       "      <td>2.300000e+01</td>\n",
       "      <td>2.587500e-02</td>\n",
       "      <td>3.800000e-02</td>\n",
       "      <td>3.300000e+01</td>\n",
       "      <td>9.875000e-01</td>\n",
       "      <td>2.000000e+00</td>\n",
       "      <td>3.000000</td>\n",
       "      <td>2.926250e-01</td>\n",
       "      <td>4.000000e-01</td>\n",
       "      <td>5.000000</td>\n",
       "    </tr>\n",
       "    <tr>\n",
       "      <th>75%</th>\n",
       "      <td>1.771364e+01</td>\n",
       "      <td>3.570000e+01</td>\n",
       "      <td>3.300000e+01</td>\n",
       "      <td>3.391700e-02</td>\n",
       "      <td>4.800000e-02</td>\n",
       "      <td>4.200000e+01</td>\n",
       "      <td>2.325000e+00</td>\n",
       "      <td>5.000000e+00</td>\n",
       "      <td>9.000000</td>\n",
       "      <td>4.666670e-01</td>\n",
       "      <td>8.000000e-01</td>\n",
       "      <td>8.000000</td>\n",
       "    </tr>\n",
       "    <tr>\n",
       "      <th>max</th>\n",
       "      <td>1.395417e+02</td>\n",
       "      <td>2.670000e+02</td>\n",
       "      <td>1.320000e+02</td>\n",
       "      <td>9.508300e-02</td>\n",
       "      <td>1.410000e-01</td>\n",
       "      <td>2.180000e+02</td>\n",
       "      <td>3.216250e+02</td>\n",
       "      <td>3.510000e+02</td>\n",
       "      <td>200.000000</td>\n",
       "      <td>7.508333e+00</td>\n",
       "      <td>1.990000e+01</td>\n",
       "      <td>201.000000</td>\n",
       "    </tr>\n",
       "  </tbody>\n",
       "</table>\n",
       "</div>"
      ],
      "text/plain": [
       "           NO2 Mean  NO2 1st Max Value       NO2 AQI       O3 Mean  \\\n",
       "count  1.746661e+06       1.746661e+06  1.746661e+06  1.746661e+06   \n",
       "mean   1.282193e+01       2.541485e+01  2.389822e+01  2.612485e-02   \n",
       "std    9.504814e+00       1.599963e+01  1.516280e+01  1.136974e-02   \n",
       "min   -2.000000e+00      -2.000000e+00  0.000000e+00  0.000000e+00   \n",
       "25%    5.750000e+00       1.300000e+01  1.200000e+01  1.787500e-02   \n",
       "50%    1.073913e+01       2.400000e+01  2.300000e+01  2.587500e-02   \n",
       "75%    1.771364e+01       3.570000e+01  3.300000e+01  3.391700e-02   \n",
       "max    1.395417e+02       2.670000e+02  1.320000e+02  9.508300e-02   \n",
       "\n",
       "       O3 1st Max Value        O3 AQI      SO2 Mean  SO2 1st Max Value  \\\n",
       "count      1.746661e+06  1.746661e+06  1.746661e+06       1.746661e+06   \n",
       "mean       3.920331e-02  3.605012e+01  1.870364e+00       4.492185e+00   \n",
       "std        1.534362e-02  1.978042e+01  2.760435e+00       7.679866e+00   \n",
       "min        0.000000e+00  0.000000e+00 -2.000000e+00      -2.000000e+00   \n",
       "25%        2.900000e-02  2.500000e+01  2.565220e-01       8.000000e-01   \n",
       "50%        3.800000e-02  3.300000e+01  9.875000e-01       2.000000e+00   \n",
       "75%        4.800000e-02  4.200000e+01  2.325000e+00       5.000000e+00   \n",
       "max        1.410000e-01  2.180000e+02  3.216250e+02       3.510000e+02   \n",
       "\n",
       "             SO2 AQI       CO Mean  CO 1st Max Value         CO AQI  \n",
       "count  873754.000000  1.746661e+06      1.746661e+06  873338.000000  \n",
       "mean        7.115945  3.682177e-01      6.201067e-01       5.996595  \n",
       "std        11.937473  3.140231e-01      6.439361e-01       5.851836  \n",
       "min         0.000000 -4.375000e-01     -4.000000e-01       0.000000  \n",
       "25%         1.000000  1.834580e-01      2.920000e-01       2.000000  \n",
       "50%         3.000000  2.926250e-01      4.000000e-01       5.000000  \n",
       "75%         9.000000  4.666670e-01      8.000000e-01       8.000000  \n",
       "max       200.000000  7.508333e+00      1.990000e+01     201.000000  "
      ]
     },
     "execution_count": 6,
     "metadata": {},
     "output_type": "execute_result"
    }
   ],
   "source": [
    "df.describe()"
   ]
  },
  {
   "cell_type": "code",
   "execution_count": 7,
   "metadata": {},
   "outputs": [
    {
     "name": "stdout",
     "output_type": "stream",
     "text": [
      "NO2 Mean             11.963636\n",
      "NO2 1st Max Value    22.700000\n",
      "NO2 AQI              21.000000\n",
      "O3 Mean               0.016042\n",
      "O3 1st Max Value      0.019000\n",
      "O3 AQI               17.000000\n",
      "SO2 Mean              2.068478\n",
      "SO2 1st Max Value     4.200000\n",
      "SO2 AQI               8.000000\n",
      "CO Mean               0.283209\n",
      "CO 1st Max Value      0.508000\n",
      "CO AQI                6.000000\n",
      "dtype: float64\n"
     ]
    }
   ],
   "source": [
    "#IQR range\n",
    "Q1 = df.quantile(0.25)\n",
    "Q3 = df.quantile(0.75)\n",
    "IQR = Q3 - Q1\n",
    "print(IQR)"
   ]
  },
  {
   "cell_type": "code",
   "execution_count": 8,
   "metadata": {},
   "outputs": [
    {
     "data": {
      "text/plain": [
       "(1342531, 14)"
      ]
     },
     "execution_count": 8,
     "metadata": {},
     "output_type": "execute_result"
    }
   ],
   "source": [
    "#removing Outliers\n",
    "df = df[~((df < (Q1 - 1.5 * IQR)) |(df > (Q3 + 1.5 * IQR))).any(axis=1)]\n",
    "df.shape"
   ]
  },
  {
   "cell_type": "code",
   "execution_count": 9,
   "metadata": {},
   "outputs": [],
   "source": [
    "#encoding dates\n",
    "df.insert(loc=1, column='Year', value=df['Date Local'].apply(lambda year: year.split('-')[0])) \n",
    "df.drop('Date Local', axis=1, inplace=True)\n",
    "df['Year']=df['Year'].astype('int')"
   ]
  },
  {
   "cell_type": "code",
   "execution_count": 10,
   "metadata": {},
   "outputs": [],
   "source": [
    "#filling the FIRST Nan values with the means by the state\n",
    "for i in df.columns[2:]:\n",
    "    df[i] = df[i].fillna(df.groupby('State')[i].transform('mean'))"
   ]
  },
  {
   "cell_type": "code",
   "execution_count": 11,
   "metadata": {},
   "outputs": [
    {
     "data": {
      "image/png": "[encoded data removed]",
      "text/plain": [
       "<Figure size 720x288 with 2 Axes>"
      ]
     },
     "metadata": {
      "needs_background": "light"
     },
     "output_type": "display_data"
    }
   ],
   "source": [
    "df[df[\"State\"]=='Missouri']['NO2 AQI'].plot(kind='density', subplots=True, layout=(1, 2), \n",
    "                  sharex=False, figsize=(10, 4));"
   ]
  },
  {
   "cell_type": "code",
   "execution_count": 12,
   "metadata": {},
   "outputs": [
    {
     "data": {
      "image/png": "[encoded data removed]",
      "text/plain": [
       "<Figure size 432x288 with 1 Axes>"
      ]
     },
     "metadata": {
      "needs_background": "light"
     },
     "output_type": "display_data"
    }
   ],
   "source": [
    "plt.scatter(df[df['State']=='Missouri']['Year'], df[df['State']=='Missouri']['NO2 AQI']);"
   ]
  },
  {
   "cell_type": "code",
   "execution_count": 13,
   "metadata": {},
   "outputs": [],
   "source": [
    "# grouped dataset\n",
    "dfG = df.groupby(['State', 'Year']).mean().reset_index()"
   ]
  },
  {
   "cell_type": "code",
   "execution_count": 14,
   "metadata": {},
   "outputs": [
    {
     "data": {
      "text/plain": [
       "(494, 14)"
      ]
     },
     "execution_count": 14,
     "metadata": {},
     "output_type": "execute_result"
    }
   ],
   "source": [
    "dfG.shape"
   ]
  },
  {
   "cell_type": "code",
   "execution_count": 15,
   "metadata": {},
   "outputs": [
    {
     "data": {
      "text/html": [
       "<div>\n",
       "<style scoped>\n",
       "    .dataframe tbody tr th:only-of-type {\n",
       "        vertical-align: middle;\n",
       "    }\n",
       "\n",
       "    .dataframe tbody tr th {\n",
       "        vertical-align: top;\n",
       "    }\n",
       "\n",
       "    .dataframe thead th {\n",
       "        text-align: right;\n",
       "    }\n",
       "</style>\n",
       "<table border=\"1\" class=\"dataframe\">\n",
       "  <thead>\n",
       "    <tr style=\"text-align: right;\">\n",
       "      <th></th>\n",
       "      <th>Year</th>\n",
       "      <th>NO2 Mean</th>\n",
       "      <th>NO2 1st Max Value</th>\n",
       "      <th>NO2 AQI</th>\n",
       "      <th>O3 Mean</th>\n",
       "      <th>O3 1st Max Value</th>\n",
       "      <th>O3 AQI</th>\n",
       "      <th>SO2 Mean</th>\n",
       "      <th>SO2 1st Max Value</th>\n",
       "      <th>SO2 AQI</th>\n",
       "      <th>CO Mean</th>\n",
       "      <th>CO 1st Max Value</th>\n",
       "      <th>CO AQI</th>\n",
       "    </tr>\n",
       "  </thead>\n",
       "  <tbody>\n",
       "    <tr>\n",
       "      <th>count</th>\n",
       "      <td>494.000000</td>\n",
       "      <td>494.000000</td>\n",
       "      <td>494.000000</td>\n",
       "      <td>494.000000</td>\n",
       "      <td>494.000000</td>\n",
       "      <td>494.000000</td>\n",
       "      <td>494.000000</td>\n",
       "      <td>494.000000</td>\n",
       "      <td>494.000000</td>\n",
       "      <td>494.000000</td>\n",
       "      <td>494.000000</td>\n",
       "      <td>494.000000</td>\n",
       "      <td>494.000000</td>\n",
       "    </tr>\n",
       "    <tr>\n",
       "      <th>mean</th>\n",
       "      <td>2009.212551</td>\n",
       "      <td>10.747558</td>\n",
       "      <td>22.650210</td>\n",
       "      <td>21.228981</td>\n",
       "      <td>0.025932</td>\n",
       "      <td>0.037521</td>\n",
       "      <td>32.867243</td>\n",
       "      <td>1.165419</td>\n",
       "      <td>2.646242</td>\n",
       "      <td>3.607843</td>\n",
       "      <td>0.301163</td>\n",
       "      <td>0.465804</td>\n",
       "      <td>4.619578</td>\n",
       "    </tr>\n",
       "    <tr>\n",
       "      <th>std</th>\n",
       "      <td>4.743883</td>\n",
       "      <td>4.371782</td>\n",
       "      <td>7.670828</td>\n",
       "      <td>7.291912</td>\n",
       "      <td>0.004144</td>\n",
       "      <td>0.004823</td>\n",
       "      <td>4.283865</td>\n",
       "      <td>0.834911</td>\n",
       "      <td>1.578448</td>\n",
       "      <td>1.973271</td>\n",
       "      <td>0.126349</td>\n",
       "      <td>0.176256</td>\n",
       "      <td>1.580695</td>\n",
       "    </tr>\n",
       "    <tr>\n",
       "      <th>min</th>\n",
       "      <td>2000.000000</td>\n",
       "      <td>0.763530</td>\n",
       "      <td>1.553147</td>\n",
       "      <td>1.090909</td>\n",
       "      <td>0.012132</td>\n",
       "      <td>0.018829</td>\n",
       "      <td>17.441441</td>\n",
       "      <td>-0.033596</td>\n",
       "      <td>0.066333</td>\n",
       "      <td>0.250052</td>\n",
       "      <td>0.002597</td>\n",
       "      <td>0.021333</td>\n",
       "      <td>0.917960</td>\n",
       "    </tr>\n",
       "    <tr>\n",
       "      <th>25%</th>\n",
       "      <td>2006.000000</td>\n",
       "      <td>7.633976</td>\n",
       "      <td>17.124724</td>\n",
       "      <td>15.868921</td>\n",
       "      <td>0.023651</td>\n",
       "      <td>0.034929</td>\n",
       "      <td>30.528781</td>\n",
       "      <td>0.536178</td>\n",
       "      <td>1.388853</td>\n",
       "      <td>1.951765</td>\n",
       "      <td>0.216226</td>\n",
       "      <td>0.347940</td>\n",
       "      <td>3.556522</td>\n",
       "    </tr>\n",
       "    <tr>\n",
       "      <th>50%</th>\n",
       "      <td>2010.000000</td>\n",
       "      <td>10.617999</td>\n",
       "      <td>22.947007</td>\n",
       "      <td>21.510045</td>\n",
       "      <td>0.025795</td>\n",
       "      <td>0.037845</td>\n",
       "      <td>32.990058</td>\n",
       "      <td>0.936485</td>\n",
       "      <td>2.251052</td>\n",
       "      <td>3.371520</td>\n",
       "      <td>0.279248</td>\n",
       "      <td>0.445796</td>\n",
       "      <td>4.606004</td>\n",
       "    </tr>\n",
       "    <tr>\n",
       "      <th>75%</th>\n",
       "      <td>2013.000000</td>\n",
       "      <td>13.750441</td>\n",
       "      <td>28.125989</td>\n",
       "      <td>26.414369</td>\n",
       "      <td>0.028015</td>\n",
       "      <td>0.040523</td>\n",
       "      <td>35.538569</td>\n",
       "      <td>1.607425</td>\n",
       "      <td>3.776081</td>\n",
       "      <td>5.155856</td>\n",
       "      <td>0.366176</td>\n",
       "      <td>0.575920</td>\n",
       "      <td>5.613148</td>\n",
       "    </tr>\n",
       "    <tr>\n",
       "      <th>max</th>\n",
       "      <td>2016.000000</td>\n",
       "      <td>25.942308</td>\n",
       "      <td>42.745318</td>\n",
       "      <td>40.415730</td>\n",
       "      <td>0.040835</td>\n",
       "      <td>0.050165</td>\n",
       "      <td>43.147165</td>\n",
       "      <td>4.307074</td>\n",
       "      <td>6.656213</td>\n",
       "      <td>7.935345</td>\n",
       "      <td>0.721985</td>\n",
       "      <td>1.094762</td>\n",
       "      <td>10.577235</td>\n",
       "    </tr>\n",
       "  </tbody>\n",
       "</table>\n",
       "</div>"
      ],
      "text/plain": [
       "              Year    NO2 Mean  NO2 1st Max Value     NO2 AQI     O3 Mean  \\\n",
       "count   494.000000  494.000000         494.000000  494.000000  494.000000   \n",
       "mean   2009.212551   10.747558          22.650210   21.228981    0.025932   \n",
       "std       4.743883    4.371782           7.670828    7.291912    0.004144   \n",
       "min    2000.000000    0.763530           1.553147    1.090909    0.012132   \n",
       "25%    2006.000000    7.633976          17.124724   15.868921    0.023651   \n",
       "50%    2010.000000   10.617999          22.947007   21.510045    0.025795   \n",
       "75%    2013.000000   13.750441          28.125989   26.414369    0.028015   \n",
       "max    2016.000000   25.942308          42.745318   40.415730    0.040835   \n",
       "\n",
       "       O3 1st Max Value      O3 AQI    SO2 Mean  SO2 1st Max Value  \\\n",
       "count        494.000000  494.000000  494.000000         494.000000   \n",
       "mean           0.037521   32.867243    1.165419           2.646242   \n",
       "std            0.004823    4.283865    0.834911           1.578448   \n",
       "min            0.018829   17.441441   -0.033596           0.066333   \n",
       "25%            0.034929   30.528781    0.536178           1.388853   \n",
       "50%            0.037845   32.990058    0.936485           2.251052   \n",
       "75%            0.040523   35.538569    1.607425           3.776081   \n",
       "max            0.050165   43.147165    4.307074           6.656213   \n",
       "\n",
       "          SO2 AQI     CO Mean  CO 1st Max Value      CO AQI  \n",
       "count  494.000000  494.000000        494.000000  494.000000  \n",
       "mean     3.607843    0.301163          0.465804    4.619578  \n",
       "std      1.973271    0.126349          0.176256    1.580695  \n",
       "min      0.250052    0.002597          0.021333    0.917960  \n",
       "25%      1.951765    0.216226          0.347940    3.556522  \n",
       "50%      3.371520    0.279248          0.445796    4.606004  \n",
       "75%      5.155856    0.366176          0.575920    5.613148  \n",
       "max      7.935345    0.721985          1.094762   10.577235  "
      ]
     },
     "execution_count": 15,
     "metadata": {},
     "output_type": "execute_result"
    }
   ],
   "source": [
    "dfG.describe()"
   ]
  },
  {
   "cell_type": "code",
   "execution_count": 16,
   "metadata": {},
   "outputs": [
    {
     "data": {
      "image/png": "[encoded data removed]",
      "text/plain": [
       "<Figure size 432x288 with 1 Axes>"
      ]
     },
     "metadata": {
      "needs_background": "light"
     },
     "output_type": "display_data"
    }
   ],
   "source": [
    "plt.scatter(dfG[dfG['State']=='Missouri']['Year'], dfG[dfG['State']=='Missouri']['NO2 AQI']);"
   ]
  },
  {
   "cell_type": "code",
   "execution_count": 17,
   "metadata": {},
   "outputs": [],
   "source": [
    "#function for inserting a row\n",
    "def Insert_row_(row_number, df, row_value): \n",
    "    # Slice the upper half of the dataframe \n",
    "    df1 = df[0:row_number] \n",
    "   \n",
    "    # Store the result of lower half of the dataframe \n",
    "    df2 = df[row_number:] \n",
    "   \n",
    "    # Inser the row in the upper half dataframe \n",
    "    df1.loc[row_number]=row_value \n",
    "   \n",
    "    # Concat the two dataframes \n",
    "    df_result = pd.concat([df1, df2]) \n",
    "   \n",
    "    # Reassign the index labels \n",
    "    df_result.index = [*range(df_result.shape[0])] \n",
    "   \n",
    "    # Return the updated dataframe \n",
    "    return df_result "
   ]
  },
  {
   "cell_type": "code",
   "execution_count": 18,
   "metadata": {},
   "outputs": [
    {
     "name": "stdout",
     "output_type": "stream",
     "text": [
      "[2000 2001 2002 2003 2004 2005 2006 2007 2008 2009 2010 2011 2012 2013\n",
      " 2014 2015 2016]\n"
     ]
    }
   ],
   "source": [
    "#all the years\n",
    "year_list = df['Year'].unique()\n",
    "print(year_list)"
   ]
  },
  {
   "cell_type": "code",
   "execution_count": 19,
   "metadata": {},
   "outputs": [
    {
     "name": "stdout",
     "output_type": "stream",
     "text": [
      "['Arizona' 'California' 'Colorado' 'District Of Columbia' 'Florida'\n",
      " 'Illinois' 'Indiana' 'Kansas' 'Kentucky' 'Louisiana' 'Michigan'\n",
      " 'Missouri' 'New Jersey' 'New York' 'North Carolina' 'Oklahoma'\n",
      " 'Pennsylvania' 'Texas' 'Virginia' 'Massachusetts' 'Nevada'\n",
      " 'New Hampshire' 'South Carolina' 'Connecticut' 'Iowa' 'Maine' 'Maryland'\n",
      " 'Wisconsin' 'Country Of Mexico' 'Arkansas' 'Oregon' 'Wyoming'\n",
      " 'North Dakota' 'Tennessee' 'Idaho' 'Ohio' 'Georgia' 'Delaware' 'Hawaii'\n",
      " 'Minnesota' 'New Mexico' 'Rhode Island' 'South Dakota' 'Utah' 'Alabama'\n",
      " 'Washington' 'Alaska']\n"
     ]
    }
   ],
   "source": [
    "#all the states\n",
    "state_list = df['State'].unique()\n",
    "print(state_list)"
   ]
  },
  {
   "cell_type": "code",
   "execution_count": 20,
   "metadata": {},
   "outputs": [
    {
     "name": "stderr",
     "output_type": "stream",
     "text": [
      "c:\\users\\khud4\\appdata\\local\\programs\\python\\python36-32\\lib\\site-packages\\pandas\\core\\indexing.py:205: SettingWithCopyWarning: \n",
      "A value is trying to be set on a copy of a slice from a DataFrame\n",
      "\n",
      "See the caveats in the documentation: http://pandas.pydata.org/pandas-docs/stable/user_guide/indexing.html#returning-a-view-versus-a-copy\n",
      "  self._setitem_with_indexer(indexer, value)\n"
     ]
    }
   ],
   "source": [
    "# add more years with NaN values\n",
    "for state in state_list:\n",
    "    year_diff = set(year_list).difference(list(dfG[dfG['State']==state]['Year']))\n",
    "    for i in year_diff:\n",
    "        row_value = [state, i, np.nan, np.nan, np.nan, np.nan, np.nan, np.nan, np.nan,np.nan,np.nan,np.nan,np.nan,np.nan] \n",
    "        dfG = Insert_row_(random.randint(1,494), dfG, row_value) "
   ]
  },
  {
   "cell_type": "code",
   "execution_count": 21,
   "metadata": {},
   "outputs": [],
   "source": [
    "# fill Nan values with means by the state\n",
    "for i in dfG.columns[2:]:\n",
    "    dfG[i] = dfG[i].fillna(dfG.groupby('State')[i].transform('mean'))"
   ]
  },
  {
   "cell_type": "code",
   "execution_count": 22,
   "metadata": {},
   "outputs": [],
   "source": [
    "total_AQI = dfG['NO2 AQI'] + dfG['SO2 AQI'] + \\\n",
    "              dfG['CO AQI'] + dfG['O3 AQI']\n",
    "dfG.insert(loc=len(dfG.columns), column='Total_AQI', value=total_AQI)"
   ]
  },
  {
   "cell_type": "code",
   "execution_count": 23,
   "metadata": {},
   "outputs": [
    {
     "data": {
      "text/html": [
       "<div>\n",
       "<style scoped>\n",
       "    .dataframe tbody tr th:only-of-type {\n",
       "        vertical-align: middle;\n",
       "    }\n",
       "\n",
       "    .dataframe tbody tr th {\n",
       "        vertical-align: top;\n",
       "    }\n",
       "\n",
       "    .dataframe thead th {\n",
       "        text-align: right;\n",
       "    }\n",
       "</style>\n",
       "<table border=\"1\" class=\"dataframe\">\n",
       "  <thead>\n",
       "    <tr style=\"text-align: right;\">\n",
       "      <th></th>\n",
       "      <th>State</th>\n",
       "      <th>Year</th>\n",
       "      <th>NO2 Mean</th>\n",
       "      <th>NO2 1st Max Value</th>\n",
       "      <th>NO2 AQI</th>\n",
       "      <th>O3 Mean</th>\n",
       "      <th>O3 1st Max Value</th>\n",
       "      <th>O3 AQI</th>\n",
       "      <th>SO2 Mean</th>\n",
       "      <th>SO2 1st Max Value</th>\n",
       "      <th>SO2 AQI</th>\n",
       "      <th>CO Mean</th>\n",
       "      <th>CO 1st Max Value</th>\n",
       "      <th>CO AQI</th>\n",
       "      <th>Total_AQI</th>\n",
       "    </tr>\n",
       "  </thead>\n",
       "  <tbody>\n",
       "    <tr>\n",
       "      <th>0</th>\n",
       "      <td>Alabama</td>\n",
       "      <td>2013</td>\n",
       "      <td>11.562322</td>\n",
       "      <td>23.000000</td>\n",
       "      <td>21.309091</td>\n",
       "      <td>0.012696</td>\n",
       "      <td>0.020709</td>\n",
       "      <td>19.181818</td>\n",
       "      <td>0.570033</td>\n",
       "      <td>2.323636</td>\n",
       "      <td>3.590411</td>\n",
       "      <td>0.195668</td>\n",
       "      <td>0.424000</td>\n",
       "      <td>3.833978</td>\n",
       "      <td>47.915299</td>\n",
       "    </tr>\n",
       "    <tr>\n",
       "      <th>1</th>\n",
       "      <td>Alabama</td>\n",
       "      <td>2014</td>\n",
       "      <td>8.987481</td>\n",
       "      <td>22.466541</td>\n",
       "      <td>20.776938</td>\n",
       "      <td>0.024014</td>\n",
       "      <td>0.037369</td>\n",
       "      <td>34.784499</td>\n",
       "      <td>0.926364</td>\n",
       "      <td>3.155009</td>\n",
       "      <td>4.112630</td>\n",
       "      <td>0.200941</td>\n",
       "      <td>0.384168</td>\n",
       "      <td>3.691119</td>\n",
       "      <td>63.365185</td>\n",
       "    </tr>\n",
       "    <tr>\n",
       "      <th>2</th>\n",
       "      <td>Alabama</td>\n",
       "      <td>2000</td>\n",
       "      <td>9.534908</td>\n",
       "      <td>22.490668</td>\n",
       "      <td>20.781931</td>\n",
       "      <td>0.022027</td>\n",
       "      <td>0.033628</td>\n",
       "      <td>31.323181</td>\n",
       "      <td>0.712854</td>\n",
       "      <td>2.533887</td>\n",
       "      <td>3.670921</td>\n",
       "      <td>0.202191</td>\n",
       "      <td>0.397144</td>\n",
       "      <td>3.740094</td>\n",
       "      <td>59.516127</td>\n",
       "    </tr>\n",
       "    <tr>\n",
       "      <th>3</th>\n",
       "      <td>Alabama</td>\n",
       "      <td>2015</td>\n",
       "      <td>8.583251</td>\n",
       "      <td>20.579588</td>\n",
       "      <td>18.968165</td>\n",
       "      <td>0.023281</td>\n",
       "      <td>0.036646</td>\n",
       "      <td>34.256554</td>\n",
       "      <td>0.686332</td>\n",
       "      <td>2.405431</td>\n",
       "      <td>3.539757</td>\n",
       "      <td>0.213717</td>\n",
       "      <td>0.410225</td>\n",
       "      <td>3.772559</td>\n",
       "      <td>60.537036</td>\n",
       "    </tr>\n",
       "    <tr>\n",
       "      <th>4</th>\n",
       "      <td>Alabama</td>\n",
       "      <td>2016</td>\n",
       "      <td>9.006580</td>\n",
       "      <td>23.916544</td>\n",
       "      <td>22.073529</td>\n",
       "      <td>0.028118</td>\n",
       "      <td>0.039787</td>\n",
       "      <td>37.069853</td>\n",
       "      <td>0.668688</td>\n",
       "      <td>2.251471</td>\n",
       "      <td>3.440884</td>\n",
       "      <td>0.198440</td>\n",
       "      <td>0.370184</td>\n",
       "      <td>3.662721</td>\n",
       "      <td>66.246988</td>\n",
       "    </tr>\n",
       "  </tbody>\n",
       "</table>\n",
       "</div>"
      ],
      "text/plain": [
       "     State  Year   NO2 Mean  NO2 1st Max Value    NO2 AQI   O3 Mean  \\\n",
       "0  Alabama  2013  11.562322          23.000000  21.309091  0.012696   \n",
       "1  Alabama  2014   8.987481          22.466541  20.776938  0.024014   \n",
       "2  Alabama  2000   9.534908          22.490668  20.781931  0.022027   \n",
       "3  Alabama  2015   8.583251          20.579588  18.968165  0.023281   \n",
       "4  Alabama  2016   9.006580          23.916544  22.073529  0.028118   \n",
       "\n",
       "   O3 1st Max Value     O3 AQI  SO2 Mean  SO2 1st Max Value   SO2 AQI  \\\n",
       "0          0.020709  19.181818  0.570033           2.323636  3.590411   \n",
       "1          0.037369  34.784499  0.926364           3.155009  4.112630   \n",
       "2          0.033628  31.323181  0.712854           2.533887  3.670921   \n",
       "3          0.036646  34.256554  0.686332           2.405431  3.539757   \n",
       "4          0.039787  37.069853  0.668688           2.251471  3.440884   \n",
       "\n",
       "    CO Mean  CO 1st Max Value    CO AQI  Total_AQI  \n",
       "0  0.195668          0.424000  3.833978  47.915299  \n",
       "1  0.200941          0.384168  3.691119  63.365185  \n",
       "2  0.202191          0.397144  3.740094  59.516127  \n",
       "3  0.213717          0.410225  3.772559  60.537036  \n",
       "4  0.198440          0.370184  3.662721  66.246988  "
      ]
     },
     "execution_count": 23,
     "metadata": {},
     "output_type": "execute_result"
    }
   ],
   "source": [
    "dfG.head()"
   ]
  },
  {
   "cell_type": "code",
   "execution_count": 24,
   "metadata": {},
   "outputs": [
    {
     "data": {
      "image/png": "[encoded data removed]",
      "text/plain": [
       "<Figure size 432x288 with 1 Axes>"
      ]
     },
     "metadata": {
      "needs_background": "light"
     },
     "output_type": "display_data"
    }
   ],
   "source": [
    "plt.scatter(dfG[dfG['State']=='Missouri']['Year'], dfG[dfG['State']=='Missouri']['Total_AQI']);"
   ]
  },
  {
   "cell_type": "code",
   "execution_count": 25,
   "metadata": {},
   "outputs": [
    {
     "data": {
      "image/png": "[encoded data removed]",
      "text/plain": [
       "<Figure size 720x288 with 2 Axes>"
      ]
     },
     "metadata": {
      "needs_background": "light"
     },
     "output_type": "display_data"
    }
   ],
   "source": [
    "dfG[dfG[\"State\"]=='Missouri']['Total_AQI'].plot(kind='density', subplots=True, layout=(1, 2), \n",
    "                  sharex=False, figsize=(10, 4));"
   ]
  },
  {
   "cell_type": "code",
   "execution_count": 26,
   "metadata": {},
   "outputs": [
    {
     "data": {
      "text/plain": [
       "['./processed_data.joblib']"
      ]
     },
     "execution_count": 26,
     "metadata": {},
     "output_type": "execute_result"
    }
   ],
   "source": [
    "joblib.dump(dfG, \"./processed_data.joblib\", compress=True)"
   ]
  },
  {
   "cell_type": "code",
   "execution_count": 27,
   "metadata": {},
   "outputs": [
    {
     "name": "stdout",
     "output_type": "stream",
     "text": [
      "['Alabama', 'Hawaii', 'Alaska', 'Arizona', 'Country Of Mexico', 'Arkansas', 'Minnesota', 'New Mexico', 'Kentucky', 'Rhode Island', 'Delaware', 'Ohio', 'Nevada', 'Wisconsin', 'Wyoming', 'Oregon', 'South Dakota', 'Washington', 'California', 'Tennessee', 'Michigan', 'Utah', 'North Dakota', 'Connecticut', 'Maine', 'Colorado', 'South Carolina', 'New Jersey', 'District Of Columbia', 'Idaho', 'Missouri', 'Virginia', 'Georgia', 'Florida', 'Illinois', 'New Hampshire', 'Indiana', 'Iowa', 'Kansas', 'Louisiana', 'Maryland', 'Massachusetts', 'New York', 'North Carolina', 'Oklahoma', 'Pennsylvania', 'Texas']\n"
     ]
    }
   ],
   "source": [
    "testing_Data = joblib.load(\"./processed_data.joblib\")\n",
    "states = list(testing_Data['State'].unique())\n",
    "print(states)"
   ]
  },
  {
   "cell_type": "code",
   "execution_count": 28,
   "metadata": {},
   "outputs": [],
   "source": [
    "from sklearn.linear_model import LinearRegression\n",
    "\n",
    "def state_data(state, data, df):\n",
    "    t = df[df['State']==state].sort_values(by='Year')\n",
    "    \n",
    "    clf = LinearRegression()\n",
    "    clf.fit(t[['Year']], t[data])\n",
    "    years = np.arange(2017, 2020, 1)\n",
    "    tt = pd.DataFrame({'Year': years, data: clf.predict(years.reshape(-1, 1))})\n",
    "    \n",
    "    pd.concat([t, tt], sort=False).set_index('Year')[data].plot(color='red')\n",
    "    t.set_index('Year')[data].plot(figsize=(15, 5), xticks=(np.arange(2000, 2020, 1)))\n",
    "    \n",
    "    return print(clf.predict(years.reshape(-1, 1)))"
   ]
  },
  {
   "cell_type": "code",
   "execution_count": 29,
   "metadata": {},
   "outputs": [
    {
     "name": "stdout",
     "output_type": "stream",
     "text": [
      "[22.30133441 21.99118935 21.6810443 ]\n"
     ]
    },
    {
     "data": {
      "image/png": "[encoded data removed]",
      "text/plain": [
       "<Figure size 1080x360 with 1 Axes>"
      ]
     },
     "metadata": {
      "needs_background": "light"
     },
     "output_type": "display_data"
    }
   ],
   "source": [
    "state_data('Missouri', 'NO2 AQI', testing_Data)"
   ]
  },
  {
   "cell_type": "code",
   "execution_count": null,
   "metadata": {},
   "outputs": [],
   "source": []
  }
 ],
 "metadata": {
  "kernelspec": {
   "display_name": "Python 3",
   "language": "python",
   "name": "python3"
  },
  "language_info": {
   "codemirror_mode": {
    "name": "ipython",
    "version": 3
   },
   "file_extension": ".py",
   "mimetype": "text/x-python",
   "name": "python",
   "nbconvert_exporter": "python",
   "pygments_lexer": "ipython3",
   "version": "3.6.4"
  }
 },
 "nbformat": 4,
 "nbformat_minor": 2
}
